{
 "cells": [
  {
   "cell_type": "markdown",
   "id": "46953c5c-3df9-45bd-9136-f4058caad371",
   "metadata": {},
   "source": [
    "# Diagnóstico de Overfitting y Underfitting en Modelos de Machine Learning\n",
    "\n",
    "Este notebook tiene como objetivo **diagnosticar problemas de overfitting y underfitting** \n",
    "utilizando el dataset procesado `df_feat.csv` proveniente de la base MIT-BIH Arrhythmia.  \n",
    "\n",
    "Se explorarán las características del dataset, se entrenarán modelos base, se generarán \n",
    "curvas de aprendizaje (training/validation) y se implementarán estrategias de mejora para \n",
    "mitigar problemas detectados.  \n",
    "\n",
    "---\n",
    "\n",
    "## Carga y Exploración del Dataset\n",
    "\n",
    "En esta sección se realiza la carga del dataset preprocesado (`df_feat.csv`) y un análisis \n",
    "exploratorio inicial de las características. El objetivo es comprender:\n",
    "\n",
    "- La dimensión del dataset\n",
    "- La estructura de las variables\n",
    "- La distribución de las clases (desbalance o no)\n",
    "- Valores faltantes o inconsistencias\n",
    "- Estadísticas descriptivas de las features\n",
    "- Correlación entre variables"
   ]
  },
  {
   "cell_type": "code",
   "execution_count": null,
   "id": "e5d94776-d98c-4142-af91-51a0a684ba87",
   "metadata": {},
   "outputs": [],
   "source": [
    "import pandas as pd\n",
    "import numpy as np\n",
    "import matplotlib.pyplot as plt\n",
    "import seaborn as sns\n",
    "\n",
    "from sklearn.preprocessing import StandardScaler, LabelEncoder\n",
    "from sklearn.pipeline import Pipeline\n",
    "from sklearn.model_selection import learning_curve, validation_curve\n",
    "from sklearn.linear_model import LogisticRegression\n",
    "from sklearn.model_selection import train_test_split\n",
    "\n",
    "\n",
    "# Configuración visual\n",
    "plt.style.use(\"seaborn-v0_8\")\n",
    "sns.set_palette(\"Set2\")\n",
    "pd.set_option(\"display.max_columns\", None)"
   ]
  },
  {
   "cell_type": "code",
   "execution_count": null,
   "id": "bc3c8bb6-3537-40a1-a18a-a5ef651bf1ec",
   "metadata": {},
   "outputs": [],
   "source": [
    "# === Carga del dataset ===\n",
    "df_feat  = pd.read_csv(\"df_feat_processed.csv\")\n",
    "\n",
    "print(\"Shape del dataset:\", df_feat.shape)\n",
    "df_feat .head()"
   ]
  },
  {
   "cell_type": "code",
   "execution_count": null,
   "id": "e8a86a36-b3bc-4587-9fa4-0fb8f204c757",
   "metadata": {},
   "outputs": [],
   "source": [
    "# === Información general ===\n",
    "print(\"\\n--- Información del DataFrame ---\")\n",
    "df_feat.info()"
   ]
  },
  {
   "cell_type": "code",
   "execution_count": null,
   "id": "98b34d72-b6a1-40da-9819-fe5680a76455",
   "metadata": {},
   "outputs": [],
   "source": [
    "# === Resumen estadístico ===\n",
    "print(\"\\n--- Resumen estadístico (numérico) ---\")\n",
    "display(df_feat.describe().T)"
   ]
  },
  {
   "cell_type": "markdown",
   "id": "161fd119-48cc-4b52-8e35-de85719650a5",
   "metadata": {},
   "source": [
    "#### Análisis Resumido del Dataset\n",
    "\n",
    "- El dataset contiene **112,572 muestras** con múltiples variables de señal y derivadas.  \n",
    "- **Voltajes y amplitudes** tienen rangos amplios (≈ -5 a +5 mV), reflejando la variabilidad de los latidos.  \n",
    "- **Duración (`duration_s`)** es constante (0.555 s), por lo que no aporta información relevante.  \n",
    "- Varias variables están **escaladas/normalizadas** (`*_std`, `*_rob`, `*_qnt`) con media cercana a 0 y desviación ≈ 1.  \n",
    "- Se observan **outliers** en variables energéticas (`energy`, `energy_x_mv`, `lof_dist`), que podrían influir en el modelado.  \n",
    "- La variable de clase (`class_code`) muestra **desbalance entre categorías**.  "
   ]
  },
  {
   "cell_type": "code",
   "execution_count": null,
   "id": "2c8f446a-4c89-41a4-a899-c340ff0c79fb",
   "metadata": {},
   "outputs": [],
   "source": [
    "# === Valores faltantes ===\n",
    "print(\"\\n--- Conteo de valores nulos por columna ---\")\n",
    "display(df_feat.isnull().sum()[df_feat.isnull().sum() > 0])"
   ]
  },
  {
   "cell_type": "code",
   "execution_count": null,
   "id": "fead479f-59e2-421c-8182-ea8d03b9df0a",
   "metadata": {},
   "outputs": [],
   "source": [
    "# === Distribución de clases ===\n",
    "if \"class_AAMI\" in df_feat.columns:\n",
    "    class_counts = df_feat[\"class_AAMI\"].value_counts().sort_index()\n",
    "    print(\"\\n--- Distribución de clases (AAMI) ---\")\n",
    "    display(class_counts)\n",
    "\n",
    "    plt.figure(figsize=(7,4), dpi=120)\n",
    "    sns.barplot(x=class_counts.index, y=class_counts.values)\n",
    "    plt.title(\"Distribución de clases (AAMI)\")\n",
    "    plt.ylabel(\"Número de instancias\")\n",
    "    plt.xlabel(\"Clase AAMI\")\n",
    "    plt.grid(True, axis=\"y\", linestyle=\"--\", alpha=0.7)\n",
    "    plt.show()"
   ]
  },
  {
   "cell_type": "code",
   "execution_count": null,
   "id": "6b9936b8-2777-41f6-bfc1-b00d887f255f",
   "metadata": {},
   "outputs": [],
   "source": [
    "# Correlación entre variables numéricas\n",
    "num_cols = df_feat.select_dtypes(include=[np.number]).columns\n",
    "if len(num_cols) > 1:\n",
    "    corr = df_feat[num_cols].corr()\n",
    "\n",
    "    plt.figure(figsize=(10,8), dpi=120)\n",
    "    sns.heatmap(corr, cmap=\"coolwarm\", center=0, \n",
    "                annot=False, cbar=True, linewidths=0.5)\n",
    "    plt.title(\"Mapa de calor de correlaciones entre variables numéricas\")\n",
    "    plt.show()"
   ]
  },
  {
   "cell_type": "markdown",
   "id": "dfa8f044-f12b-4a12-bd69-d50d0644721f",
   "metadata": {},
   "source": [
    "#### Análisis del Mapa de Calor de Correlaciones\n",
    "\n",
    "- El mapa muestra la **relación lineal** entre variables numéricas, con valores entre **-1 y +1**.  \n",
    "  - **Rojo intenso**: correlación positiva alta.  \n",
    "  - **Azul intenso**: correlación negativa alta.  \n",
    "  - **Gris/blanco**: baja correlación.  \n",
    "\n",
    "#### Observaciones principales\n",
    "- **Variables derivadas similares** (`*_std`, `*_rob`, `*_qnt`) presentan correlaciones fuertes entre sí → son versiones escaladas o transformadas de la misma señal.  \n",
    "- **Métricas de energía** (`energy`, `log_energy`, `energy_rob`, `roll_std_energy_3`) están altamente correlacionadas entre sí, lo cual es esperable porque miden aspectos similares.  \n",
    "- **Amplitud y área** (`amplitude_peak`, `amplitude_min`, `area`) muestran correlaciones moderadas, reflejando la relación natural entre la forma del latido y su área.  \n",
    "- Variables como **`record`** o **`sample`** casi no se correlacionan con las demás → actúan más como identificadores que como features útiles.  \n",
    "\n",
    "#### Conclusión\n",
    "- Existen **grupos de variables redundantes** (energía, amplitud, versiones escaladas).  \n",
    "- Para evitar problemas de **multicolinealidad** en algunos modelos, puede ser recomendable:  \n",
    "  - Seleccionar solo una variable representativa por grupo, o  \n",
    "  - Usar reducción de dimensionalidad (ej. PCA o selección basada en modelos).  "
   ]
  },
  {
   "cell_type": "code",
   "execution_count": null,
   "id": "4a409a01-2e10-4082-8e51-5789c8682671",
   "metadata": {},
   "outputs": [],
   "source": [
    "# === Distribuciones univariadas ===\n",
    "\n",
    "cols_to_plot = [\n",
    "    \"amplitude_peak\", \"amplitude_min\", \"mean_voltage\", \n",
    "    \"std_voltage\", \"energy\", \"area\", \"log_energy\"\n",
    "]\n",
    "\n",
    "fig, axes = plt.subplots(2, 4, figsize=(16, 8), dpi=120)\n",
    "axes = axes.flatten()\n",
    "\n",
    "for i, col in enumerate(cols_to_plot):\n",
    "    sns.histplot(df_feat[col], bins=40, kde=True, ax=axes[i], color=\"teal\")\n",
    "    axes[i].set_title(col)\n",
    "\n",
    "# Eliminar el último subplot vacío\n",
    "for j in range(len(cols_to_plot), len(axes)):\n",
    "    fig.delaxes(axes[j])\n",
    "\n",
    "plt.tight_layout()\n",
    "plt.show()"
   ]
  },
  {
   "cell_type": "markdown",
   "id": "52c4050a-f3ee-4ac9-a2d8-359a094869aa",
   "metadata": {},
   "source": [
    "#### Análisis de Distribuciones Univariadas (variables clave)\n",
    "\n",
    "- **amplitude_peak / amplitude_min**: distribuciones centradas en torno a 0, con ligera asimetría y colas largas. Reflejan la variabilidad de los picos positivos y negativos de los latidos.  \n",
    "- **mean_voltage**: concentrado cerca de 0, con pocos casos extremos. Indica que la línea base de la señal está bien centrada tras el preprocesamiento.  \n",
    "- **std_voltage**: valores principalmente entre 0.2 y 0.6, lo que muestra una variabilidad moderada en los latidos, con pocos outliers más altos.  \n",
    "- **energy**: muy sesgada a la derecha (muchos valores bajos y algunos extremadamente altos). Esto confirma la necesidad de transformaciones como `log_energy`.  \n",
    "- **area**: concentrada entre 0 y 0.5, con pocos valores más grandes. Sugiere que la mayoría de los latidos tienen áreas pequeñas bajo la curva.  \n",
    "- **log_energy**: distribución más balanceada y cercana a normal tras la transformación logarítmica, reduciendo el efecto de outliers.  \n",
    "\n",
    "**Conclusión**: La mayoría de las variables presentan distribuciones sesgadas con outliers, especialmente en medidas de energía. Transformaciones como el logaritmo ayudan a estabilizar las escalas y mejorar la preparación para el modelado.  "
   ]
  },
  {
   "cell_type": "markdown",
   "id": "b6257dab-f5cc-4093-8ac0-f4fb6acce9d3",
   "metadata": {},
   "source": [
    "## 1. Implementación de Tracking de Métricas"
   ]
  },
  {
   "cell_type": "markdown",
   "id": "b21269e1-bae3-45e9-8a41-c681dd9f79c9",
   "metadata": {},
   "source": [
    "#### Preparar X, y y partición"
   ]
  },
  {
   "cell_type": "code",
   "execution_count": null,
   "id": "8768a80b-00b1-4008-b1b6-a35cce08270c",
   "metadata": {},
   "outputs": [],
   "source": [
    "# Features y target\n",
    "X = df_feat.select_dtypes(include=[np.number]).drop(columns=[\"class_code\", \"record\", \"sample\"], errors=\"ignore\")\n",
    "y = df_feat[\"class_code\"]\n",
    "\n",
    "# División Train/Test (estratificada)\n",
    "X_train, X_test, y_train, y_test = train_test_split(\n",
    "    X, y, test_size=0.2, stratify=y, random_state=42\n",
    ")\n",
    "\n",
    "print(\"Train:\", X_train.shape, \" Test:\", X_test.shape)"
   ]
  },
  {
   "cell_type": "markdown",
   "id": "e7b9bac0-fd3b-4058-aff6-e962de6b5f93",
   "metadata": {},
   "source": [
    "#### 1.1 Sistema de Monitoreo Básico"
   ]
  },
  {
   "cell_type": "code",
   "execution_count": null,
   "id": "1ec087b8-392c-4ed9-8a8a-5cef8d037e26",
   "metadata": {},
   "outputs": [],
   "source": [
    "# Se prepara los datos (X = features numéricas, y = clases)\n",
    "X = df_feat.select_dtypes(include=[np.number]).drop(\n",
    "    columns=[\"class_code\", \"record\", \"sample\"], errors=\"ignore\"\n",
    ")\n",
    "y = df_feat[\"class_code\"]\n",
    "\n",
    "# División Train/Test estratificada\n",
    "X_train, X_test, y_train, y_test = train_test_split(\n",
    "    X, y, test_size=0.2, stratify=y, random_state=42\n",
    ")\n",
    "\n",
    "print(\"Train:\", X_train.shape, \" Test:\", X_test.shape)"
   ]
  },
  {
   "cell_type": "code",
   "execution_count": null,
   "id": "eba7e322-e5f6-4d48-99ca-b1ba90dcd535",
   "metadata": {},
   "outputs": [],
   "source": [
    "# Modelo base: Regresión Logística\n",
    "model = LogisticRegression(max_iter=1000, solver=\"saga\", penalty=\"l2\")\n",
    "\n",
    "# Tracking de métricas con curva de aprendizaje (learning_curve)\n",
    "train_sizes, train_scores, val_scores = learning_curve(\n",
    "    model, X_train, y_train,\n",
    "    cv=5, scoring=\"accuracy\",\n",
    "    train_sizes=np.linspace(0.1, 1.0, 5),\n",
    "    n_jobs=-1\n",
    ")\n",
    "\n",
    "# Promedio y desviación\n",
    "train_mean = np.mean(train_scores, axis=1)\n",
    "train_std = np.std(train_scores, axis=1)\n",
    "val_mean = np.mean(val_scores, axis=1)\n",
    "val_std = np.std(val_scores, axis=1)\n",
    "\n",
    "# Gráfico: Accuracy en Train vs Validation según tamaño de datos\n",
    "plt.figure(figsize=(8,6), dpi=120)\n",
    "plt.plot(train_sizes, train_mean, \"o-\", color=\"teal\", label=\"Train score\")\n",
    "plt.plot(train_sizes, val_mean, \"o-\", color=\"orange\", label=\"Validation score\")\n",
    "plt.fill_between(train_sizes, train_mean-train_std, train_mean+train_std, alpha=0.2, color=\"teal\")\n",
    "plt.fill_between(train_sizes, val_mean-val_std, val_mean+val_std, alpha=0.2, color=\"orange\")\n",
    "plt.title(\"Curva de Aprendizaje (Logistic Regression)\")\n",
    "plt.xlabel(\"Tamaño del conjunto de entrenamiento\")\n",
    "plt.ylabel(\"Accuracy\")\n",
    "plt.legend(loc=\"best\")\n",
    "plt.grid(True, linestyle=\"--\", alpha=0.7)\n",
    "plt.show()"
   ]
  },
  {
   "cell_type": "markdown",
   "id": "0164e088-d45f-48ec-870c-f1f4059cea97",
   "metadata": {},
   "source": [
    "#### 1.2 Tracking para Diferentes Tipos de Modelos (Scikit-learn)"
   ]
  },
  {
   "cell_type": "code",
   "execution_count": null,
   "id": "80833273-0251-43eb-a391-0a8467d28ab8",
   "metadata": {},
   "outputs": [],
   "source": [
    "# Se usa validation_curve para ver el efecto de un hiperparámetro (C)\n",
    "param_range = np.logspace(-3, 2, 6)  # valores de C para regularización\n",
    "\n",
    "train_scores, val_scores = validation_curve(\n",
    "    model, X_train, y_train,\n",
    "    param_name=\"C\", param_range=param_range,\n",
    "    cv=5, scoring=\"accuracy\", n_jobs=-1\n",
    ")\n",
    "\n",
    "# Promedio de scores\n",
    "train_mean = np.mean(train_scores, axis=1)\n",
    "val_mean = np.mean(val_scores, axis=1)\n",
    "\n",
    "# Gráfico: Accuracy en Train vs Validation según C\n",
    "plt.figure(figsize=(8,6), dpi=120)\n",
    "plt.semilogx(param_range, train_mean, \"o-\", color=\"teal\", label=\"Train score\")\n",
    "plt.semilogx(param_range, val_mean, \"o-\", color=\"orange\", label=\"Validation score\")\n",
    "plt.title(\"Validation Curve (Logistic Regression, parámetro C)\")\n",
    "plt.xlabel(\"Parámetro C (regularización inversa)\")\n",
    "plt.ylabel(\"Accuracy\")\n",
    "plt.legend(loc=\"best\")\n",
    "plt.grid(True, linestyle=\"--\", alpha=0.7)\n",
    "plt.show()"
   ]
  },
  {
   "cell_type": "code",
   "execution_count": null,
   "id": "08cf8184-7a68-4fda-bfec-c57a5ba3584b",
   "metadata": {},
   "outputs": [],
   "source": []
  },
  {
   "cell_type": "code",
   "execution_count": null,
   "id": "1e6444ac-4e42-4a04-8aef-c73e5efa044e",
   "metadata": {},
   "outputs": [],
   "source": []
  },
  {
   "cell_type": "code",
   "execution_count": null,
   "id": "5c8ebbd4-ce5b-45be-8e31-c71e7d25f8ee",
   "metadata": {},
   "outputs": [],
   "source": []
  },
  {
   "cell_type": "code",
   "execution_count": null,
   "id": "40f145ad-8949-4b1b-b85f-996d1fe89749",
   "metadata": {},
   "outputs": [],
   "source": []
  }
 ],
 "metadata": {
  "kernelspec": {
   "display_name": "Python 3 (ipykernel)",
   "language": "python",
   "name": "python3"
  },
  "language_info": {
   "codemirror_mode": {
    "name": "ipython",
    "version": 3
   },
   "file_extension": ".py",
   "mimetype": "text/x-python",
   "name": "python",
   "nbconvert_exporter": "python",
   "pygments_lexer": "ipython3",
   "version": "3.11.9"
  }
 },
 "nbformat": 4,
 "nbformat_minor": 5
}
